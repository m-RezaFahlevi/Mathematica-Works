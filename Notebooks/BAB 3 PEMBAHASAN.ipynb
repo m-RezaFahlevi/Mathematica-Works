{
 "cells": [
  {
   "cell_type": "markdown",
   "metadata": {},
   "source": [
    "----\n",
    "\n",
    "## Pendahuluan\n",
    "Metode iterasi dengan titik tetap (fixed-point iteration) adalah salah satu metode yang digunakan pada analisis numerik, yang pada umumnya digunakan untuk menemukan akar dari suatu persamaan (matematika). Untuk metode mencari akar persamaan, pada analisis numerik, kita mengenal ada yang namanya bracketing method dan open method, metode iterasi dengan titik tetap ini merupakan metode terbuka. Metode fixed point dapat ditulis sebagai berikut.\n",
    "\n",
    "Misalkan terdapat suatu fungsi $f:x \\to y$ sehingga $y = f(x)$, maka untuk fungsi $f(x)$ dapat dituliskan ke dalam bentuk yang ekuivalen $\\phi(x)$. Jika iterasi dilakukan sebanyak $i = 0, 1, ... , n - 1$ untuk $\\phi_{i+1}(x) \\equiv f_i(x)$, dengan dugaan inisial akarnya adalah $x_0$, maka untuk fungsi $\\phi_(x_{i + 1})$ diperoleh\n",
    "$$\n",
    "(\\phi \\circ \\phi \\circ ... \\circ \\phi) (x) = \\phi(\\phi(...(\\phi(x))...))\n",
    "$$\n",
    "dan untuk iterasi $i = 0, 1, ... , n - 1$, $\\phi \\circ \\phi \\circ ... \\circ \\phi : x_0 \\to c$. Artinya, setelah melakukan iterasi ke $i_{th}$ diharapkan bahwa untuk nilai dugaan inisial akarnya $x_0$ akan konvergen ke nilai akar sebenarnya $c$.\n",
    "\n",
    "Kita dapat menuliskan metode fixed point ke dalam bentuk algoritma berikut. Algoritma berikut mengembalikan vector $idsvect = (u_0, u_1, ... , u_{n-1})$"
   ]
  },
  {
   "cell_type": "raw",
   "metadata": {},
   "source": [
    "\n",
    "1. define function phi(x)\n",
    "\n",
    "2. ids := x0\n",
    "\n",
    "3. idsvect := []\n",
    "\n",
    "4. for i := 0 to n - 1\n",
    "\n",
    "5.     ids := phi(ids)\n",
    "    \n",
    "6.     idsvect[i] := ids\n",
    "\n",
    "7. endfor    \n",
    "\n",
    "8. return idsvect"
   ]
  },
  {
   "cell_type": "markdown",
   "metadata": {},
   "source": [
    "## Persoalan\n",
    "\n",
    "**Latar Belakang.** Menentukan aliran fluida pada pipa dan selang mempunyai hubungan yang sangat erat di berbagai kalangan teknisi dan ilmuwan. Pada kalangan teknik, hal ini teraplikasikan pada aliran cairan dan gas yang melalui saluran pipa dan sistem pendingin. Sedangkan pada kalangan ilmuwan, aliran fluida teraplikasikan di berbagai topik, mulai dari aliran darah yang melalui pembuluh, hingga transmisi nutrisi pada tumbuhan.\n",
    "\n",
    "Hambatan (resistance) pada aliran yang mengalir pada saluran diparameterkan oleh angka yang tak berdimensi (konstanta) yang disebut dengan faktor gesekan (friction factor). Untuk aliran turbulen, *persamaan Colebrook* memberikan rata - rata untuk menghitung kuantitas faktor gesekan:\n",
    "$$\n",
    "0 = \\frac{1}{\\sqrt{f}} + 2.0 \\log \\Bigg\\{ \\frac{\\varepsilon}{3.7D} + \\frac{2.51}{Re\\sqrt{f}} \\Bigg\\}\n",
    "$$\n",
    "yang mana $\\varepsilon = \\text{tingkat kekasaran permukaan(m),}$ $D = \\text{diameter(m),}$ dan $Re = \\text{bilangan Reynold,}$ bilangan Reynold didefinisikan sebagai:\n",
    "$$\n",
    "Re = \\frac{\\rho V D}{\\mu}\n",
    "$$\n",
    "yang mana $\\rho = \\text{massa jenis fluida }(kg/m^3)$, $V = \\text{kecepatan (m),}$ dan $\\mu = \\text{viskositas dinamik}(N.s/m^2)$. Bilangan Reynold berguna untuk menentukan kriteria apakah alirannya merupakan bukan aliran turbulen atau turbulen $(Re > 4000)$\n",
    "\n",
    "**Masalah.** Pada studi kasus ini, kita akan mengilustrasikan metode analisis numerik, *simple fixed-point iteration* menyelesaikan masalah untuk menentukan friction factor $f$ pada aliran udara melalui selang yang tipis dan halus. Untuk kasus kali ini, parameternya adalah $\\rho = 1.23kg/m^3$, $\\mu = 1.79 \\times 10{-5} N.s/m^2$, $D = 0.005m$, $V = 40 m/s$ dan $\\varepsilon = 0.0015mm$. Perlu dicatat bahwa interval friction factor f-nya sekitar 0.008 hingga 0.08. Sebagai tambahan, persamaan eksplisit untuk menentukan friction factor f dikenal dengan *persamaan Swamee-Jain* menyediakan approksimasi estimasi bahwa $f$ didefinisikan oleh:\n",
    "$$\n",
    "f = \\frac{1.325}{ \\Bigg[ \\ln \\Bigg\\{\\frac{\\varepsilon}{3.7D} + \\frac{5.74}{Re^{0.9}} \\Bigg\\} \\Bigg]^2}\n",
    "$$\n",
    "\n",
    "**Penyelesaian.**\n",
    "Pertama, komputasikan nilai dari bilangan Reynoldnya dengan menggunakan persamaan berikut,\n",
    "$$\n",
    "Re = \\frac{\\rho V D}{\\mu}\n",
    "$$\n",
    "Dengan memasukkan nilai $\\rho = 1.23kg/m^3$, $V = 40 m/s$, $D = 0.005m$, dan $\\mu = 1.79 \\times 10{-5} N.s/m^2$, diperoleh,\n",
    "$$\n",
    "Re = \\frac{\\rho V D}{\\mu} = \\frac{1.23 \\times 40 \\times 0.005}{1.79 \\times 10^{-5}} = 13743.02 \\approx 13743\n",
    "$$"
   ]
  },
  {
   "cell_type": "code",
   "execution_count": 6,
   "metadata": {},
   "outputs": [
    {
     "name": "stdout",
     "output_type": "stream",
     "text": [
      "RE = 1.3743e+04\n"
     ]
    }
   ],
   "source": [
    "% Compute the Reynold's number\n",
    "RHO = 1.23; VELOCITY = 40; DIAMETER = 0.005; MU = 0.0000179;\n",
    "RE = RHO * VELOCITY * DIAMETER / MU"
   ]
  },
  {
   "cell_type": "markdown",
   "metadata": {},
   "source": [
    "Tulis kembali *persamaan Colebrook* untuk $f$ sehingga,\n",
    "$$\n",
    "\\begin{aligned}\n",
    "0 &= \\frac{1}{\\sqrt{f}} + 2.0 \\log \\Bigg\\{ \\frac{\\varepsilon}{3.7D} + \\frac{2.51}{Re\\sqrt{f}} \\Bigg\\} \\\\\n",
    "0 &=  \\frac{1}{\\sqrt{f}} + 2.0 \\log \\Bigg\\{ \\frac{0.0000015}{3.7\\times 0.005} + \\frac{2.51}{13743 \\times\\sqrt{f}} \\Bigg\\} \\\\\n",
    "f &= \\frac{0.25}{\\Bigg(\\log\\Bigg(\\frac{0.0000015}{3.7\\times 0.005} + \\frac{2.51}{13743 \\times\\sqrt{f}}\\Bigg)\\Bigg)^2}\n",
    "\\end{aligned}\n",
    "$$"
   ]
  },
  {
   "cell_type": "code",
   "execution_count": 8,
   "metadata": {},
   "outputs": [],
   "source": [
    "% Compute function of f\n",
    "function[friction] = phi(xreal)\n",
    "STCONSTANT = 0.0000015 / (3.7 * 0.005);\n",
    "NDCONSTANT = 2.51 / 13743;\n",
    "logterm = log10(STCONSTANT + (NDCONSTANT * 1 / sqrt(xreal)));\n",
    "friction = 0.25 * 1 / (logterm ** 2);\n",
    "end"
   ]
  },
  {
   "cell_type": "code",
   "execution_count": 23,
   "metadata": {},
   "outputs": [
    {
     "name": "stdout",
     "output_type": "stream",
     "text": [
      "ans = phi(0.010000) = 0.033802\n",
      "ans = phi(0.020000) = 0.030511\n",
      "ans = phi(0.030000) = 0.028829\n",
      "ans = phi(0.040000) = 0.027732\n",
      "ans = phi(0.050000) = 0.026931\n",
      "ans = phi(0.060000) = 0.026308\n",
      "ans = phi(0.070000) = 0.025802\n",
      "ans = phi(0.080000) = 0.025379\n",
      "ans = phi(0.090000) = 0.025017\n"
     ]
    }
   ],
   "source": [
    "% Compute several value of f\n",
    "for i = 0.01:0.01:0.09\n",
    "    sprintf('phi(%f) = %f', i, phi(i))\n",
    "end"
   ]
  },
  {
   "cell_type": "code",
   "execution_count": 17,
   "metadata": {},
   "outputs": [],
   "source": [
    "% Compute function fixed-point iteration\n",
    "function [xvect, fepsilonar] = fixedpoint(x0, niteration)\n",
    "ids = x0;\n",
    "fepsilonar = 0;\n",
    "xvect = [];\n",
    "for i = 1:niteration-1\n",
    "    ids = feval('phi', ids);\n",
    "    xvect(i) = ids;\n",
    "    if (i > 1) \n",
    "        fepsilonar(i) = abs((xvect(i) - xvect(i - 1)) / xvect(i));\n",
    "    end\n",
    "end\n",
    "end"
   ]
  },
  {
   "cell_type": "markdown",
   "metadata": {},
   "source": [
    "Sehingga, untuk $x_0 = 0.01$ dengan iterasi $i = 0, 1, ... , 15$, diperoleh."
   ]
  },
  {
   "cell_type": "code",
   "execution_count": 38,
   "metadata": {},
   "outputs": [
    {
     "name": "stdout",
     "output_type": "stream",
     "text": [
      "xvect =\n",
      "\n",
      " Columns 1 through 7:\n",
      "\n",
      "   0.033802   0.028365   0.029052   0.028956   0.028969   0.028968   0.028968\n",
      "\n",
      " Columns 8 through 14:\n",
      "\n",
      "   0.028968   0.028968   0.028968   0.028968   0.028968   0.028968   0.028968\n",
      "\n",
      "fepsilonar =\n",
      "\n",
      " Columns 1 through 8:\n",
      "\n",
      "        0   0.1917   0.0237   0.0033   0.0005   0.0001   0.0000   0.0000\n",
      "\n",
      " Columns 9 through 14:\n",
      "\n",
      "   0.0000   0.0000   0.0000   0.0000   0.0000   0.0000\n",
      "\n"
     ]
    }
   ],
   "source": [
    "[xvect, fepsilonar] = fixedpoint(0.01, 15)"
   ]
  },
  {
   "cell_type": "markdown",
   "metadata": {},
   "source": [
    "Terlihat bahwa untuk $x_0 = 0.001$ dengan iterasi $i = 0, 1, ... , 15 - 1$, nilai friction factor $f$ konvergen ke $0.028968$ dengan estimasi kesalahannya (error estimation) $\\varepsilon_a = 0.01%$ pada **fepsilonar(6).** Hal ini membuktikan bahwa dengan menggunakan analisis numerik metode fixed-point iteration, friction factor $f$ konvergen dengan cepat menuju nilai 0.028968. Dengan demikian, nilai friction factor $f$-nya adalah 0.028968. \n",
    "\n",
    "Berikut adalah plot dari fungsi friction factor f dan pola konvergennya."
   ]
  },
  {
   "cell_type": "code",
   "execution_count": 123,
   "metadata": {},
   "outputs": [
    {
     "name": "stdout",
     "output_type": "stream",
     "text": [
      "ans = gnuplot\n"
     ]
    }
   ],
   "source": [
    "graphics_toolkit % What is the grpahics toolkits being used"
   ]
  },
  {
   "cell_type": "code",
   "execution_count": 124,
   "metadata": {},
   "outputs": [],
   "source": [
    "graphics_toolkit(\"gnuplot\") % use gnuplot as the graphics toolkit"
   ]
  },
  {
   "cell_type": "code",
   "execution_count": 125,
   "metadata": {},
   "outputs": [
    {
     "name": "stdout",
     "output_type": "stream",
     "text": [
      "ans = gnuplot\n"
     ]
    }
   ],
   "source": [
    "graphics_toolkit % What is the grpahics toolkits being used"
   ]
  },
  {
   "cell_type": "code",
   "execution_count": 126,
   "metadata": {},
   "outputs": [],
   "source": [
    "%Define the domain of x-axis\n",
    "xdomain = 0.01:0.001:0.09;\n",
    "phivect = [];\n",
    "for i = xdomain\n",
    "    phivect = [phivect, phi(i)];\n",
    "end\n",
    "stiter = [];\n",
    "for i = 0.01:0.001:phi(0.01)\n",
    "    stiter = [stiter, phi(0.01)];\n",
    "end"
   ]
  },
  {
   "cell_type": "code",
   "execution_count": 130,
   "metadata": {},
   "outputs": [
    {
     "data": {
      "image/png": "[encoded data removed]",
      "text/plain": [
       "<IPython.core.display.Image object>"
      ]
     },
     "metadata": {},
     "output_type": "display_data"
    }
   ],
   "source": [
    "%Plot the function phi(x), y = x, and the converge pattern for x0 = 0.01 and x0 = 0.08\n",
    "plot(xdomain, phivect, 'b', xdomain, xdomain, 'r-', \n",
    "    0.01, 0.01:0.001:phi(0.01), 'm',\n",
    "    0.01:0.001:phi(0.01), stiter, 'm',\n",
    "    phi(0.01), phi(0.01):-0.001:phi(phi(0.01)), 'm',\n",
    "    phi(phi(phi(0.01))):0.001:phi(0.01), phi(phi(0.01)), 'm',\n",
    "    0.08, 0:0.001:phi(0.08),  'r',\n",
    "    phi(0.08):0.001:0.08, phi(0.08),  'r',\n",
    "    phi(0.08), phi(0.08):0.001:phi(phi(0.08)),  'r',\n",
    "    phi(0.08):0.001:phi(phi(0.08)), phi(phi(0.08)), 'r')\n",
    "grid on\n",
    "title('friction function of phi(x), y = x, and the converge pattern')\n",
    "xlabel('x-axis')\n",
    "ylabel('phi(x) and f(x) = x')"
   ]
  },
  {
   "cell_type": "markdown",
   "metadata": {},
   "source": [
    "Dari grafik tersebut, grafik berwarna biru merupakan grafik dari fungsi friction factor f phi(x), warna merah merupakan grafik dari fungsi linear $y = x$ dan garis putus-putus dengan warna ungu merupakan pola konvergen untuk inisial nilai $x_0 = 0.01$ dan garis putus-putus berwarna merah merupakan pola konvergen untuk inisial nilai $x_0 = 0.08$. Terlihat bahwa hanya dengan 3 iterasi saja, nilai friction factor $f$ sudah mulai konvergen.\n",
    "\n",
    "**Masalah.** Tentukan akar dari persamaan berikut dengan dugaan inisial akarnya $x_0 = 0.5$\n",
    "$$\n",
    "f(x) = sin(\\sqrt{x}) - x\n",
    "$$\n",
    "\n",
    "**Penyelesaian.** Untuk $f(x) = 0$, kita dapat menuliskan persamaan ini dengan bentuk\n",
    "$$\n",
    "x = sin(\\sqrt{x})\n",
    "$$\n",
    "Sehingga diperoleh 2 bentuk persamaan yang ekuivalen, yaitu $\\phi_1(x) = x$ dan $\\phi_2(x) = sin(\\sqrt{x})$. Secara intuisi, untuk persamaan $\\phi_1(x) = x$ merupakan persamaan linear, dan persamaan linear akan memberikan hasil divergent (tidak konvergen) untuk iterasi ke n. Maka dari itu, kita pilih persamaan $\\phi_2(x) = sin(\\sqrt{x})$"
   ]
  },
  {
   "cell_type": "code",
   "execution_count": 147,
   "metadata": {},
   "outputs": [],
   "source": [
    "% Compute function fixed-point iteration\n",
    "function [xvect, fepsilonar] = fixedpointsin(x0, niteration)\n",
    "ids = x0;\n",
    "fepsilonar = 0;\n",
    "xvect = [];\n",
    "for i = 1:niteration-1\n",
    "    ids = sin(sqrt(ids));\n",
    "    xvect(i) = ids;\n",
    "    if (i > 1) \n",
    "        fepsilonar(i) = abs((xvect(i) - xvect(i - 1)) / xvect(i));\n",
    "    end\n",
    "end\n",
    "end"
   ]
  },
  {
   "cell_type": "code",
   "execution_count": 149,
   "metadata": {},
   "outputs": [
    {
     "name": "stdout",
     "output_type": "stream",
     "text": [
      "ans = sin(sqrt(0.500000)) = 0.649637\n",
      "ans = sin(sqrt(0.600000)) = 0.699428\n",
      "ans = sin(sqrt(0.700000)) = 0.742410\n",
      "ans = sin(sqrt(0.800000)) = 0.779851\n",
      "ans = sin(sqrt(0.900000)) = 0.812649\n"
     ]
    }
   ],
   "source": [
    "% Compute several value of f\n",
    "for i = 0.5:0.1:0.9\n",
    "    sprintf('sin(sqrt(%f)) = %f', i, sin(sqrt(i)))\n",
    "end"
   ]
  },
  {
   "cell_type": "markdown",
   "metadata": {},
   "source": [
    "Sehingga, untuk iterasi $i = 0, 1, ... 20 - 1$ dengan inisial akarnya $x_0 = 0.5$ diperoleh,"
   ]
  },
  {
   "cell_type": "code",
   "execution_count": 151,
   "metadata": {},
   "outputs": [
    {
     "name": "stdout",
     "output_type": "stream",
     "text": [
      "xvect =\n",
      "\n",
      " Columns 1 through 8:\n",
      "\n",
      "   0.6994   0.7422   0.7588   0.7650   0.7673   0.7682   0.7685   0.7686\n",
      "\n",
      " Columns 9 through 14:\n",
      "\n",
      "   0.7686   0.7686   0.7686   0.7686   0.7686   0.7686\n",
      "\n",
      "fepsilonar =\n",
      "\n",
      " Columns 1 through 7:\n",
      "\n",
      "          0   0.057604   0.021928   0.008130   0.002984   0.001091   0.000398\n",
      "\n",
      " Columns 8 through 14:\n",
      "\n",
      "   0.000145   0.000053   0.000019   0.000007   0.000003   0.000001   0.000000\n",
      "\n"
     ]
    }
   ],
   "source": [
    "[xvect, fepsilonar] = fixedpointsin(0.6, 15)"
   ]
  },
  {
   "cell_type": "markdown",
   "metadata": {},
   "source": [
    "Terlihat bahwa nilainya mulai konvergen pada iterasi ke 8, hal ini dapat dilihat pada nilai **xvect(8) = 0.7686** dengan nilai $\\varepsilon_a = 0.000145$.\n",
    "\n",
    "Berikut adalah plot dari fungsi linear $\\phi(x) = x$ dan fungsi $\\phi(x) = sin(\\sqrt{x})$"
   ]
  },
  {
   "cell_type": "code",
   "execution_count": 152,
   "metadata": {},
   "outputs": [],
   "source": [
    "% Compute the domain of x-axis\n",
    "xdosin = 0.0:0.001:0.9;\n",
    "linearfun = xdosin;\n",
    "trigfun = sin(sqrt(xdosin));"
   ]
  },
  {
   "cell_type": "code",
   "execution_count": 184,
   "metadata": {},
   "outputs": [
    {
     "data": {
      "image/png": "[encoded data removed]",
      "text/plain": [
       "<IPython.core.display.Image object>"
      ]
     },
     "metadata": {},
     "output_type": "display_data"
    }
   ],
   "source": [
    "plot(xdosin, trigfun, 'b', xdosin, linearfun, 'r-', xdosin, xdosin - sin(sqrt(xdosin)), 'g',\n",
    "    sin(sqrt(0.5)),0.1:0.01:sin(sqrt(sin(sqrt(0.5)))),  'm',\n",
    "    sin(sqrt(0.5)):0.01:sin(sqrt(sin(sqrt(0.5)))), sin(sqrt(sin(sqrt(0.5)))), 'm',\n",
    "    sin(sqrt(sin(sqrt(0.5)))), sin(sqrt(sin(sqrt(0.5)))):0.01:sin(sqrt(sin(sqrt(sin(sqrt(0.5)))))), 'm')\n",
    "grid on"
   ]
  },
  {
   "cell_type": "markdown",
   "metadata": {},
   "source": [
    "Dari grafik tersebut, grafik yang mau dicari akarnya adalah grafik berwarna hijau, grafik berwarna biru merupakan grafik dari $\\phi(x) = sin(\\sqrt{x})$, warna merah merupakan grafik dari fungsi linear $y = x$ dan garis putus-putus dengan warna ungu merupakan pola konvergen untuk inisial nilai $x_0 = 0.5$. Tidak seperti contoh sebelumnya, untuk kasus kali ini, kita akan jumpai akar dari persamaan $f(x) = x + sin(\\sqrt{x})$ pada iterasi ke 11, dengan nilai 0.7686."
   ]
  },
  {
   "cell_type": "code",
   "execution_count": 185,
   "metadata": {},
   "outputs": [
    {
     "data": {
      "image/png": "[encoded data removed]",
      "text/plain": [
       "<IPython.core.display.Image object>"
      ]
     },
     "metadata": {},
     "output_type": "display_data"
    }
   ],
   "source": [
    "plot(xdosin, trigfun, 'b', 'LineWidth', 5, xdosin, linearfun, 'r-', 'LineWidth', 5, xdosin, xdosin - sin(sqrt(xdosin)), 'g', 'LineWidth', 5,\n",
    "    sin(sqrt(0.5)),0.1:0.01:sin(sqrt(sin(sqrt(0.5)))),  'm', 'LineWidth', 5,\n",
    "    sin(sqrt(0.5)):0.01:sin(sqrt(sin(sqrt(0.5)))), sin(sqrt(sin(sqrt(0.5)))), 'm', 'LineWidth', 5,\n",
    "    sin(sqrt(sin(sqrt(0.5)))), sin(sqrt(sin(sqrt(0.5)))):0.01:sin(sqrt(sin(sqrt(sin(sqrt(0.5)))))), 'm', 'LineWidth', 5)\n",
    "grid on"
   ]
  },
  {
   "cell_type": "code",
   "execution_count": null,
   "metadata": {},
   "outputs": [],
   "source": []
  }
 ],
 "metadata": {
  "kernelspec": {
   "display_name": "Octave",
   "language": "octave",
   "name": "octave"
  },
  "language_info": {
   "file_extension": ".m",
   "help_links": [
    {
     "text": "GNU Octave",
     "url": "https://www.gnu.org/software/octave/support.html"
    },
    {
     "text": "Octave Kernel",
     "url": "https://github.com/Calysto/octave_kernel"
    },
    {
     "text": "MetaKernel Magics",
     "url": "https://metakernel.readthedocs.io/en/latest/source/README.html"
    }
   ],
   "mimetype": "text/x-octave",
   "name": "octave",
   "version": "6.1.0"
  }
 },
 "nbformat": 4,
 "nbformat_minor": 4
}

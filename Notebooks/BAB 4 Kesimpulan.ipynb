{
 "cells": [
  {
   "cell_type": "markdown",
   "metadata": {},
   "source": [
    "Kita telah melihat bahwa untuk metode analisis numerik fixed-point iteration bagus untuk beberapa masalah. Berdasarkan 2 contoh yang sudah didemonstrasikan, pada contoh pertama, metode fixed point konvergen dengan cepat. Sedangkan pada contoh kedua, metode fixed point konvergen lebih lambat dibandingkan contoh sebelumnya. Dengan demikian, dapat disimpulkan bahwa metode fixed point sangat bagus untuk beberapa masalah tertentu. Walaupun demikian, kita tidak dapat menentukan dengan pasti masalah yang seperti apa yang dapat diselesaikan dengan efektif dan efisien ketika diselesaikan dengan analisis numerik metode fixed-point iteration atau metode analisis numerik lainnya."
   ]
  },
  {
   "cell_type": "markdown",
   "metadata": {},
   "source": [
    "# Referensi\n",
    "[1]. Modul IKLC USU 2020.\n",
    "\n",
    "[2]. Applied Numerical Methods with MATLAB for Engineers and Scientist by Stephen C. Chapra, published by Mc Graw Hill"
   ]
  },
  {
   "cell_type": "code",
   "execution_count": null,
   "metadata": {},
   "outputs": [],
   "source": []
  }
 ],
 "metadata": {
  "kernelspec": {
   "display_name": "Octave",
   "language": "octave",
   "name": "octave"
  },
  "language_info": {
   "file_extension": ".m",
   "help_links": [
    {
     "text": "GNU Octave",
     "url": "https://www.gnu.org/software/octave/support.html"
    },
    {
     "text": "Octave Kernel",
     "url": "https://github.com/Calysto/octave_kernel"
    },
    {
     "text": "MetaKernel Magics",
     "url": "https://metakernel.readthedocs.io/en/latest/source/README.html"
    }
   ],
   "mimetype": "text/x-octave",
   "name": "octave",
   "version": "6.1.0"
  }
 },
 "nbformat": 4,
 "nbformat_minor": 4
}
